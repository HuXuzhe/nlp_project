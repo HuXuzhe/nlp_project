{
 "cells": [
  {
   "cell_type": "markdown",
   "metadata": {},
   "source": [
    "# 用机器学习训练模型"
   ]
  },
  {
   "cell_type": "markdown",
   "metadata": {},
   "source": [
    "## 分成训练集+验证集"
   ]
  },
  {
   "cell_type": "code",
   "execution_count": 126,
   "metadata": {
    "ExecuteTime": {
     "end_time": "2020-05-15T09:25:23.686537Z",
     "start_time": "2020-05-15T09:25:23.683775Z"
    }
   },
   "outputs": [],
   "source": [
    "import pickle\n",
    "import numpy as np"
   ]
  },
  {
   "cell_type": "code",
   "execution_count": 127,
   "metadata": {
    "ExecuteTime": {
     "end_time": "2020-05-15T09:25:29.963798Z",
     "start_time": "2020-05-15T09:25:28.691452Z"
    }
   },
   "outputs": [],
   "source": [
    "pkl_file = open('./data_out.pkl', 'rb')\n",
    "data = pickle.load(pkl_file)"
   ]
  },
  {
   "cell_type": "code",
   "execution_count": 128,
   "metadata": {
    "ExecuteTime": {
     "end_time": "2020-05-15T09:25:35.010281Z",
     "start_time": "2020-05-15T09:25:35.007920Z"
    }
   },
   "outputs": [],
   "source": [
    "# data[:5]"
   ]
  },
  {
   "cell_type": "code",
   "execution_count": 129,
   "metadata": {
    "ExecuteTime": {
     "end_time": "2020-05-15T09:25:40.321964Z",
     "start_time": "2020-05-15T09:25:40.022845Z"
    }
   },
   "outputs": [],
   "source": [
    "from sklearn.model_selection import train_test_split\n",
    "\n",
    "x, y = zip(*data)\n",
    "x_train, x_val, y_train, y_val = train_test_split(x, y, test_size=0.25, random_state=2020)"
   ]
  },
  {
   "cell_type": "code",
   "execution_count": 130,
   "metadata": {
    "ExecuteTime": {
     "end_time": "2020-05-15T09:25:45.273285Z",
     "start_time": "2020-05-15T09:25:45.269583Z"
    }
   },
   "outputs": [
    {
     "data": {
      "text/plain": [
       "['聚美,凑团,李斯特,理论,生产力,经济,增长,理论,最早,提出,内部,控制,理论,爱心,钥匙,图片,熊彼特,发展,外部,倩女幽魂,五爷,当铺,聚美,上传,清关,资料,莱薇尔防,脱育发,凯恩斯,经济,政策,旨在,华东政法,大学,松江,校区,模拟,电子,技术,教程,华成,答案,第二章,上传,清关,材料,倩女幽魂,细心,探查,当铺,蛋糕,多大够,几个,倩女幽魂,细心,探查,空腹,蜂蜜,钱德勒,企业,联合,手机,微信,qq,注册,天津大学,仁爱,学院,大港,刘易斯,发现,欠发达,微信,加人快,李斯特,学说,特征,倩女幽魂,控制,职业,模拟,电子,技术,教程,华成,答案,空腹,豆浆,悦诗,风吟,火山,洗面奶,补肾,增发,钥匙,马蒂亚,国家,微信,代理,产品,赚钱,茫茫人海,感到,安定,股份公司,优点,微微一笑,倾城,上映,耳濡目染,聚美,电脑,支付,社会,经济学,假设,grow,gorgeous,生发,精华,师任堂,发根,聚美,优品,清关,资料,上传,照片,有没有,一种,软件,两个,信号,聚美,上传,清关,资料,关晓彤,柳屋,发根,营养液,经济,增长,理论,作者,交易,费用,概念,中性,混合性,皮肤,区别,美国,箭牌,洗发水,防脱发,心形,微信,5.0,手机,下载,倩女幽魂,交易,费用,概念,微微一笑,倾城,什么游戏,中国,地图,倩女幽魂,远程,职业,波特,说法,天津,大港,161,雅漾,喷雾,依云,空腹,豆浆,蜂蜜,2016,经济学,百年,期末考试,关晓彤,身高,经理,人员,包括,高级,雇员,钥匙,图片,聊天,背景图片,天津,大港,火车站,电子,工艺,实习,建议,师任堂,发根,再生,精华液,倩女幽魂,天津,161,公交车,路线,华东政法,大学,松江,校区,宿舍,经期,阿胶,倩女幽魂,官网,关晓彤,聊天,背景,聚美清关,资料,上传,照片,发货,梦见,牙掉,流血,边际效应,学派,代表,天津,710,公交车,路线,发微博,生日蛋糕,熊彼特,马克思主义,来源,包括,七彩,鱼池,世界,一书,企业,制度,历史,企业,发展,进程,倩女幽魂,队伍,打字,微信解,qq,绑定,20,去角质,凯恩斯,经济,政策,一对,图片,电子,工艺,实习,心得,市场经济,财富,增长,秀丽,江山,之长,行宫,第几,鼻子,爽肤水,倩女幽魂,女生,职业,鲨滩,手机,画画,软件,星火,真题,详解,预测,全真,试题,模拟,梦见,聚美,异常,聚美,优品,极速,免税店,发货,天津,天津大学,仁爱,学院,大港区,客运站,qq,群发,消息,好友,微商,聚美,微微一笑,倾城,一周,更新,几集,交易,费用,概念,沙滩,凡勃伦,衡量,企业,秀丽,江山,歌行,阴丽华,进宫,第几,国家,竞争,优势,天津,161,公交车,末班,时间表,李斯特,学说,特征,倩女幽魂,30,武器,柳屋,发根,营养液,真假,倩女幽魂,职业,亚当斯,密是,代表,情侣,配饰,顺丰,快递,查询,跟踪,悦诗,风吟,火山,洗面奶,价格,师傅,代理,熊彼特,说法,莱薇尔防,脱育,发液,心形,钥匙,图片,聚美,签到,19,10,聚美,优品,上传,身份证,师傅,蛋糕,经济学,百年,期末考试,企业,制度,历史,宿舍,qq,仙侠,传毒,孢子,聚美,优品,洗头,掉头发,代理,招商网,自然,乐园,柠檬,去死皮,凝胶,倩女幽魂,名字,1996,10,农历,世界,一书,平坦,系数,倩女幽魂,魅者,带心,聊天,背景,分分合合,念念不忘,红心,图片,秀丽,江山,歌行,马蒂亚,快递,查询,花千骨,绿鞘,代理,产品,赚钱,微商,代理,秀丽,江山,歌行,阴丽华,进宫,反社,林论,贝德玛,卸妆水,洁肤,区别,西方,经济学,发生,条件,倩女幽魂,婀娜,熊彼特,发展,外部,强加,慕斯,生日蛋糕,面膜,微信,发说,李斯特,生产力,美国,经济学,大纲,作者,师任堂,发根,再生,精华,纯色,聊天,背景,黑色,星火,四级,天津,大港,火车站,天猫,超市,几天,李斯特,生产力,增长,源泉,欧式,慕斯,生日蛋糕,图片,蜂蜜,冲泡,脸部,去角质,牌子,大学生,兼职,师任堂,发根,再生,天津,大港,坐车,凯恩斯,经济,政策,旨在,启动,经济,解决,师傅,盘山,李斯特,理论,生产力,马克思,市民,社会,耳闻,目染,注册,微信,补肾,增发,聚美,异常,新号,凯恩斯,乘数,效应,大小,取决于,企业,制度,历史,倩女幽魂,武器,中国,改革开放,两种,模式,发源地,倩女幽魂,婀娜,微微一笑,倾城,宿舍,聚美,身份验证,情侣,纯色,聊天,背景,鼻子,爽肤水,手法,倩女幽魂,登录,验证码,微信,注册,微微一笑,倾城,宿舍,马克思主义,来源,面部,去角质,牌子,马克思,称为,亚细亚,聊天,背景',\n",
       " '头孢,氨苄,胶囊,怀孕,检查,两个,胎心,眼晴,干涩,怎么回事,血红蛋白,尿常规,隐血,怎么回事,心肌梗塞,尿液,检查,红细胞,肺心病,早期,症状,慢性,胆囊炎,症状,表现,谷草,转氨酶,偏高,原因,丙辰,贫血,血常规,项目,银行卡,号查,吉凶,查询,功效,作用,补中,益气,功效,作用,郎平,简介,舒坦,鸡骨草,功效,作用,科目,尿素氮,偏高,原因,胆汁,功效,作用,嘉兴,地图,肺炎,肺气肿,托拉,主治,梦见,死去,哥哥,前列腺,抗原,比值,偏低,尿液,检查,红细胞,胸口,刺痛,怎么回事,黄冈市,慢性病,企业,职工,买药,优惠条件,鸡骨草,胶囊,多久,胃苏,颗粒,排空,水瓶,污垢,化学成分,八字,子孙,丙阳火,食道癌,慢性,出血性,胃炎,科目,灯光,考试,几组,肺癌,症状,前兆,黄冈市,平安,驾校,考试,中心,地址,鸡骨草,胶囊,饭前,饭后,白血病,血常规,异常,2016,银行存款,利率表,黄洲区,驾考,中心,地点,黄冈市,平安,驾校,科二,考点,地点,粘液,心率,过缓,梦见,两个,大甲售,胃镜,检查,注意事项,尿常规,红细胞,怎么回事,黄冈,平安,驾考,中心,科三停,黄洲市,平安,驾校,驾考,中心,地点,胃癌,早期,症状,胸闷,怎么回事,万新,双面,uvmr,非球,镜片,奥运会,金牌榜,酸奶,乙酉,办事,顺利,少量,啤酒,好处,1984,奥运会,女排,夺冠,视频,银行存款,利率,胆固醇,高是,怎么回事,2016,中国大学,排行榜,100,惊虾,原因,巴西,奥运会,闭幕式,中国,旗手,出场,视频,奥运会,金牌榜,百合,莲子,红枣,1965,2016,公历,运程,胃苏,颗粒,饭前,饭后,胃苏,颗粒,饭前,饭后,肾虚,食物,能补,慢性,胆囊炎,胆红素,胆红素,科三,考试,后视镜,方法,动作,喘啶,功效,早晨,起床,大腿,酸软,鸡骨草,胶囊,性平,性温,胸片,ct,区别,巴西,奥运会,闭幕,达喜,碳酸镁,治疗,肺气肿,张召忠谈,美国,空袭,伊朗,巴西,奥运会,闭幕,中国队,旗手,企业,职工,办理,慢性病,条件,希拉里,评价,中国,领导,牛至,功效,作用,手机,手机,转账,盘中,五行,分数,职位,压力,莲子心,功效,作用,禁忌,血常规,各项,检查,黄冈市,黄洲区,地图,平安,驾校,鸡骨草,胶囊,黄冈,平安,校官,如何治,肺气肿,黑胡椒,白胡椒,上海,青年,演员,赵静,照片,电脑,开机,设置,密码,黄冈市,平安,驾校,地点,红安,西站,武汉,动车,希拉里,中国,20,最穷,连战,马英九,官大,黑胡椒,白胡椒,区别,梦见,两个,甲鱼,血管,碎约,食物,前列腺,抗原,比值,高密度,胆固醇,偏高,碳酸镁,作用,白胡椒,食用,肺气肿,百合,功效,作用,禁忌,头孢西丁,肾虚,症状,泡水,喝有,好处,黄州市,地图,hr,心率,郎平,现任,老公,白血病,巴西,奥运会,闭幕,时间,2016,黄道吉日,右眼,一根,眉毛,要山要,发是,头孢西丁,钠针,农历,19,19,19,ct,人体,危害,阎锡山,简历,黄冈市,黄洲区,平安,驾校,考试,中心,密码,吉凶,莲子,功效,作用,左规丸,功效,便秘,百合,莲子,脑心,口服液,作用,手炀,起泡,晶耀牌,近视镜,巴西,奥运会,开幕,时间,1965,2016,运程,虫草,橘红,1992,男性,1991,女性,相配,华为,p7,手机,像素,食道癌,手术,癌细胞,转移,建造师,年龄,多少岁,乙酉,喘啶,喘啶,作用,黑胡椒,功效,作用,胃苏,颗粒,哪种,胃病,地塞米松,作用,尿液,检查,红细胞,高是,原因,托拉,注射剂,血压低,黄冈市,平安,驾校,考试,中心,示宽灯,大灯,远光灯,各指,早餐,喝牛奶,胃角,部位,尿常规,白细胞,怎么回事,肺气肿,托拉,肝肾,功能,检查,项目,心肌炎,症状,尿常规,隐血,怎么回事,冬瓜,功效,奥美拉唑,40mg,大蒜,能治,胃炎,感觉,胸闷,气短,茵陈,功效,作用,梦见,去世,复活,cosel40mg,功放,血压,栀子,功效,作用,蜂蜜水,作用,功效,盐酸,达克罗宁,胶浆,作用,红安,西站,上海,虹桥,动车,时刻表,血压低,每月,初一,十五,银行卡,卡号,吉凶,查询,茵陈,功效,血常规,各项,检查,哪些项目,小说,怀孕,检查,两个,胎心,鼻炎,症状,治疗,方法,梦见,白莲,肺癌,症状,注射,头孢,作用,功效,少量,自酒,好处,虫草,橘红,价格,万新,双面,uvmr,慢性,胆囊炎,症状,治疗,肺气肿,治疗,最佳,心脏,超声,正常值,中西药,后能,红茶,生脉,注射剂,要山要,梦见,挑着,白莲,台湾,大陆,2015,阅兵,党参,功效,作用,慢性,胆囊炎,症状,阴囊,潮湿,怎么回事,舒坦,说明书,注射,头孢,多久,喝酒,初一,十五,黄冈市,黄洲区,地图,胆红素,偏高,原因,白细胞,怎么回事,岩藻,糖苷酶,偏高,原因,大蒜,能生,红安,西站,至上,虹桥,动车,时间表,肾虚,检查,项目,胆红素,胆红素,间接,胆红素,偏高,克拉,霉素,胶囊,胸片,空腹,尿液,检查,隐血,肾阴虚,肾阳虚,区别,黄冈市,慢性病,支付,药费,比例,银行卡,密码,复方,阿胶,心率,五证,合一,手机,手机,转账,跨行,企业,职工,病退,工资待遇,科目,灯光,考试,口诀,胃苏,颗粒,鸡骨草,胶囊,能起,心率,过缓,治疗,cosel40mg,作用,2016,黄历,属狗,2016,运程,白蛋白,升高,梦见,死去,哥哥,活着,肺心病,症状,昨夜,星辰,原唱,肾阴虚,肾阳虚,奥运会,闭幕式,嘉兴,城区,地图,心脏,虚弱,症状,1984,奥运会,金牌榜,食用,纯碱,化学名,胆红素,胆红素,高是,怎么回事,碳酸镁,片能,服用,丙辰,胆红素,胆红素,间接,胆红素,教练,寄语,排球,女将,朱婷,人工,牛黄,功效,作用,肉桂,桂枝,区别,胆红素,胆红素,慢性,胆囊炎,血清,检测,指标,1958,属狗,2016,运程,早上,腰酸背痛,慢性,胆囊炎,羟丙,茶碱,功效,作用,黑胡椒,做法,青年,演员,赵静,照片,桂附,地黄丸,功效,作用,吉凶,手机号,查询,梦见,两个,甲鱼,尿素氮,偏高,华为,p7,手机,相素,梦见,两个,大脚,呼吸道,ct,扫描,双侧,肺气肿,慢性,出血性,胃炎,慢性,浅表性,胃炎,区别,张蓉芳,三七,功效,润肺,消炎,中草药,肺气肿,梦见,家里,有莽,腹式,呼吸,梦见,地震,过后,场景,手机,接通,原因,睾丸,黄冈市,平安,驾校,考点,地点,1958,生肖,梦见,地震,白血病,症状,肺心病,晚期,活多久,早上,会晨勃,大蒜,功效,作用,服方,阿胶,浆能,上火,江苏,晶耀牌,近视镜,晶耀牌,万新,双面,uvmr,科目,考试内容,合格,标准,奥美拉唑,肠溶,胶囊,鼻炎,症状,江苏,晶耀牌,近视镜,1.6,热水瓶,水垢,梦见,几个,陌生,女孩,说话,肝肾,检查,胃炎,大蒜,谷酰转,肽酶,高是,怎么回事,吃饭,时口,食物,心脏病,早期,症状,早晨,起床,小腿,酸涨,无力,示宽灯,肺气肿,活多久,dpm,000000.00,hp',\n",
       " '韩后,新闻,恋爱,句子,唯美,鹿晗,图片,聚美,优品,东西,正品,2016,奥运会,软件,女朋友,写给,男朋友,情话,以纯,官网,韩剧,最新,韩国,电视剧,韩国,感动,电影,空气,刘海,玉林,师范学院,路车,火车站,对面,军中,绿花,歌词,桂林,好玩,地方,制作,照片,小说,北流,罗定,大润发,玉林,师范学院,奖学金,申请书,广西,玉林,师院,2013,师院,大白,电影,广西,重点,新闻,玉林,师范学院,玉林,东郊,车站,玉林,柳州,火车,时刻表,少女,周岩,遭官,二代,毁容,恋爱,句子,韩剧,最新,韩国,电影,玉林,桂林,火车,时刻表,空气,刘海,怎么弄,宝宝,卸妆,巾帼不让须眉,化妆水,爽肤水,区别,大学,电动车,中国女排,身高,情话,写给,男朋友,句子,玉林,北流,公交车,时间表,泰戈尔,经典语录,玉林,师范学院,宿舍,图片,扫描,二维码,以纯,2016,春装,新款,女装,玉林,东郊,车站,空气,刘海,适合,脸型,军训,防晒霜,效果,宝宝,保质期,宝宝,化妆水,励志,句子,入团,志愿书,填写,样本,男生,写给,女朋友,情话,女朋友,写给,男朋友,情书,520,写给,女朋友,情话,怎么弄,照片,组合成,一张,小说,赵丽娜,照片,奖学金,材料,防晒霜,正确,德运,奶粉,真假,辨别,学生证,用处,北流,大润发,香菇,好吃,周玥,恶心,堕胎,事件,恋爱,句子,sm,北流市,团委,玉林,公交,女朋友,写给,男朋友,聚美,优品,包邮,张家界,周玥,金华市,乳液,好用,空气,刘海,图片,村上春树,经典语录,易班网,登录,注册,2016,奥运会,女排,重播,时间,柳铁,开开,电动车,爱情,句子,乔任,强军,战歌,歌词,刘海,韩式,空气,刘海,怎么弄,玉林,玉林,公交车,路线,女排,奥运,名单,柳州,桂林,动车,时刻表,柳州,铁路,职业,技术,学院,开开,电动车,柳州,职业,技术,学院,录取,通知书,小说,入团,志愿书,范文,易班网,化妆水,防晒霜,效果,最新,韩剧,电视剧,宝宝,防晒霜,真假,鉴别,青春,励志,句子,电视剧,学生证,办理,广西,玉林,师院,新闻,最美,情话,写给,男朋友,刘海,发型,2013,广西,玉林,师院,新闻']"
      ]
     },
     "execution_count": 130,
     "metadata": {},
     "output_type": "execute_result"
    }
   ],
   "source": [
    "x_train[:3]"
   ]
  },
  {
   "cell_type": "code",
   "execution_count": 131,
   "metadata": {
    "ExecuteTime": {
     "end_time": "2020-05-15T09:25:50.947538Z",
     "start_time": "2020-05-15T09:25:50.225248Z"
    }
   },
   "outputs": [],
   "source": [
    "age_y_train, gender_y_train, education_y_train = list(zip(*y_train))[0], list(zip(*y_train))[1], \\\n",
    "                                                 list(zip(*y_train))[2]"
   ]
  },
  {
   "cell_type": "code",
   "execution_count": 132,
   "metadata": {
    "ExecuteTime": {
     "end_time": "2020-05-15T09:25:56.010063Z",
     "start_time": "2020-05-15T09:25:55.960907Z"
    }
   },
   "outputs": [],
   "source": [
    "age_y_val, gender_y_val, education_y_val = list(zip(*y_val))[0], list(zip(*y_val))[1], \\\n",
    "                                                 list(zip(*y_val))[2]"
   ]
  },
  {
   "cell_type": "code",
   "execution_count": 133,
   "metadata": {
    "ExecuteTime": {
     "end_time": "2020-05-15T09:26:01.123280Z",
     "start_time": "2020-05-15T09:26:01.121123Z"
    }
   },
   "outputs": [],
   "source": [
    "# age_y_train[:5]"
   ]
  },
  {
   "cell_type": "code",
   "execution_count": 134,
   "metadata": {
    "ExecuteTime": {
     "end_time": "2020-05-15T09:26:06.264040Z",
     "start_time": "2020-05-15T09:26:06.259730Z"
    }
   },
   "outputs": [
    {
     "name": "stdout",
     "output_type": "stream",
     "text": [
      "训练集长度 75000\n",
      "年龄标签长度 75000\n",
      "性别标签长度 75000\n",
      "学历标签长度 75000\n"
     ]
    }
   ],
   "source": [
    "print('训练集长度', len(x_train))\n",
    "print('年龄标签长度', len(age_y_train))\n",
    "print('性别标签长度', len(gender_y_train))\n",
    "print('学历标签长度', len(education_y_train))"
   ]
  },
  {
   "cell_type": "markdown",
   "metadata": {},
   "source": [
    "## 抽取词袋模型特征"
   ]
  },
  {
   "cell_type": "code",
   "execution_count": 135,
   "metadata": {
    "ExecuteTime": {
     "end_time": "2020-05-15T09:26:35.595217Z",
     "start_time": "2020-05-15T09:26:11.433228Z"
    }
   },
   "outputs": [
    {
     "data": {
      "text/plain": [
       "CountVectorizer(analyzer='word', binary=False, decode_error='strict',\n",
       "                dtype=<class 'numpy.int64'>, encoding='utf-8', input='content',\n",
       "                lowercase=True, max_df=1.0, max_features=10000, min_df=1,\n",
       "                ngram_range=(1, 1), preprocessor=None, stop_words=None,\n",
       "                strip_accents=None, token_pattern='(?u)\\\\b\\\\w\\\\w+\\\\b',\n",
       "                tokenizer=None, vocabulary=None)"
      ]
     },
     "execution_count": 135,
     "metadata": {},
     "output_type": "execute_result"
    }
   ],
   "source": [
    "from sklearn.feature_extraction.text import CountVectorizer\n",
    "vec = CountVectorizer(analyzer='word',\n",
    "                      max_features=10000)\n",
    "vec.fit(x_train)"
   ]
  },
  {
   "cell_type": "markdown",
   "metadata": {},
   "source": [
    "## 搭建分类器"
   ]
  },
  {
   "cell_type": "code",
   "execution_count": 136,
   "metadata": {
    "ExecuteTime": {
     "end_time": "2020-05-15T09:27:41.675774Z",
     "start_time": "2020-05-15T09:26:40.741428Z"
    }
   },
   "outputs": [
    {
     "data": {
      "text/plain": [
       "MultinomialNB(alpha=1.0, class_prior=None, fit_prior=True)"
      ]
     },
     "execution_count": 136,
     "metadata": {},
     "output_type": "execute_result"
    }
   ],
   "source": [
    "from sklearn.naive_bayes import MultinomialNB\n",
    "# 建立3个分类器，分别对年龄，性别以及学历进行分类\n",
    "classifier1 = MultinomialNB()\n",
    "classifier2 = MultinomialNB()\n",
    "classifier3 = MultinomialNB()\n",
    "# \n",
    "classifier1.fit(vec.transform(x_train), age_y_train)\n",
    "classifier2.fit(vec.transform(x_train), gender_y_train)\n",
    "classifier3.fit(vec.transform(x_train), education_y_train)"
   ]
  },
  {
   "cell_type": "code",
   "execution_count": 137,
   "metadata": {
    "ExecuteTime": {
     "end_time": "2020-05-15T09:27:46.779180Z",
     "start_time": "2020-05-15T09:27:46.776489Z"
    }
   },
   "outputs": [],
   "source": [
    "# age_score = classifier1.score(vec.transform(x_test), age_y_test)\n",
    "# gender_score = classifier2.score(vec.transform(x_test), gender_y_test)\n",
    "# education_score = classifier3.score(vec.transform(x_test), education_y_test)"
   ]
  },
  {
   "cell_type": "code",
   "execution_count": 138,
   "metadata": {
    "ExecuteTime": {
     "end_time": "2020-05-15T09:27:51.835174Z",
     "start_time": "2020-05-15T09:27:51.833253Z"
    }
   },
   "outputs": [],
   "source": [
    "# final_score = (age_score + gender_score + education_score) / 3\n",
    "# final_score"
   ]
  },
  {
   "cell_type": "markdown",
   "metadata": {},
   "source": [
    "## 编写评价指标"
   ]
  },
  {
   "cell_type": "code",
   "execution_count": 139,
   "metadata": {
    "ExecuteTime": {
     "end_time": "2020-05-15T09:27:56.833475Z",
     "start_time": "2020-05-15T09:27:56.828595Z"
    }
   },
   "outputs": [],
   "source": [
    "import numpy as np\n",
    "def get_score(predict_label, truth_label):\n",
    "    \"\"\"\n",
    "    计算预测得分\n",
    "    \"\"\"\n",
    "    predict_label_index = np.where(predict_label > 0)\n",
    "    filter_predict_label = [predict_label[index] for index in predict_label_index[0]]\n",
    "    filter_truth_label = [truth_label[index] for index in predict_label_index[0]]\n",
    "    result_array = np.array(filter_predict_label) - np.array(filter_truth_label)\n",
    "    nonzero_count = np.count_nonzero(result_array)\n",
    "    acc = (len(predict_label) - nonzero_count) / len(predict_label) \n",
    "    return acc\n"
   ]
  },
  {
   "cell_type": "code",
   "execution_count": 140,
   "metadata": {
    "ExecuteTime": {
     "end_time": "2020-05-15T09:28:21.610088Z",
     "start_time": "2020-05-15T09:28:01.790654Z"
    }
   },
   "outputs": [],
   "source": [
    "age_label = classifier1.predict(vec.transform(x_val))\n",
    "gender_label = classifier2.predict(vec.transform(x_val))\n",
    "education_label = classifier3.predict(vec.transform(x_val))"
   ]
  },
  {
   "cell_type": "code",
   "execution_count": 141,
   "metadata": {
    "ExecuteTime": {
     "end_time": "2020-05-15T09:28:26.758887Z",
     "start_time": "2020-05-15T09:28:26.716878Z"
    }
   },
   "outputs": [],
   "source": [
    "age_score = get_score(age_label, age_y_val)\n",
    "gender_score = get_score(gender_label, gender_y_val)\n",
    "education_score = get_score(education_label, education_y_val)"
   ]
  },
  {
   "cell_type": "code",
   "execution_count": 142,
   "metadata": {
    "ExecuteTime": {
     "end_time": "2020-05-15T09:28:48.966777Z",
     "start_time": "2020-05-15T09:28:48.962056Z"
    }
   },
   "outputs": [
    {
     "data": {
      "text/plain": [
       "0.61828"
      ]
     },
     "execution_count": 142,
     "metadata": {},
     "output_type": "execute_result"
    }
   ],
   "source": [
    "final_score = (age_score + gender_score + education_score) / 3\n",
    "final_score"
   ]
  },
  {
   "cell_type": "code",
   "execution_count": null,
   "metadata": {},
   "outputs": [],
   "source": []
  }
 ],
 "metadata": {
  "hide_input": false,
  "kernelspec": {
   "display_name": "Python 3",
   "language": "python",
   "name": "python3"
  },
  "language_info": {
   "codemirror_mode": {
    "name": "ipython",
    "version": 3
   },
   "file_extension": ".py",
   "mimetype": "text/x-python",
   "name": "python",
   "nbconvert_exporter": "python",
   "pygments_lexer": "ipython3",
   "version": "3.7.4"
  },
  "toc": {
   "base_numbering": 1,
   "nav_menu": {},
   "number_sections": true,
   "sideBar": true,
   "skip_h1_title": false,
   "title_cell": "Table of Contents",
   "title_sidebar": "Contents",
   "toc_cell": false,
   "toc_position": {},
   "toc_section_display": true,
   "toc_window_display": true
  },
  "varInspector": {
   "cols": {
    "lenName": 16,
    "lenType": 16,
    "lenVar": 40
   },
   "kernels_config": {
    "python": {
     "delete_cmd_postfix": "",
     "delete_cmd_prefix": "del ",
     "library": "var_list.py",
     "varRefreshCmd": "print(var_dic_list())"
    },
    "r": {
     "delete_cmd_postfix": ") ",
     "delete_cmd_prefix": "rm(",
     "library": "var_list.r",
     "varRefreshCmd": "cat(var_dic_list()) "
    }
   },
   "types_to_exclude": [
    "module",
    "function",
    "builtin_function_or_method",
    "instance",
    "_Feature"
   ],
   "window_display": false
  }
 },
 "nbformat": 4,
 "nbformat_minor": 2
}
